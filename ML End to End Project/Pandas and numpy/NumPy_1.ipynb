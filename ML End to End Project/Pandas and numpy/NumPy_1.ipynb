{
 "cells": [
  {
   "cell_type": "code",
   "execution_count": 10,
   "id": "9371b173-dc3a-4e6a-be4e-c2abae91ac74",
   "metadata": {},
   "outputs": [],
   "source": [
    "import numpy as np"
   ]
  },
  {
   "cell_type": "code",
   "execution_count": 11,
   "id": "1ffc0c7b-95cb-4dab-a3c3-0c965c9190cc",
   "metadata": {},
   "outputs": [
    {
     "data": {
      "text/plain": [
       "0.04905271530151367"
      ]
     },
     "execution_count": 11,
     "metadata": {},
     "output_type": "execute_result"
    }
   ],
   "source": [
    "l1 = [i for i in range(1000000)]\n",
    "l2 = [i**2 for i in range(1000000)]\n",
    "import time\n",
    "t1 = time.time()\n",
    "l3 = l1+l2\n",
    "t2 = time.time()\n",
    "t2-t1"
   ]
  },
  {
   "cell_type": "code",
   "execution_count": 13,
   "id": "36e75508-8a23-4595-866b-b3dc50aebd78",
   "metadata": {},
   "outputs": [
    {
     "data": {
      "text/plain": [
       "0.006022930145263672"
      ]
     },
     "execution_count": 13,
     "metadata": {},
     "output_type": "execute_result"
    }
   ],
   "source": [
    "n1= np.array(l1)\n",
    "n2= np.array(l2)\n",
    "t3 = time.time()\n",
    "n3 = n1+n2\n",
    "t4 = time.time()\n",
    "t4-t3"
   ]
  },
  {
   "cell_type": "code",
   "execution_count": 15,
   "id": "7400e524-ff6d-4ba0-9aac-5bbb351b8824",
   "metadata": {},
   "outputs": [
    {
     "data": {
      "text/plain": [
       "8.144327448341382"
      ]
     },
     "execution_count": 15,
     "metadata": {},
     "output_type": "execute_result"
    }
   ],
   "source": [
    "(t2-t1)/(t4-t3)"
   ]
  },
  {
   "cell_type": "code",
   "execution_count": 17,
   "id": "360982de-a206-4fe0-9b73-24e6f72c3172",
   "metadata": {},
   "outputs": [
    {
     "data": {
      "text/plain": [
       "0.19763851165771484"
      ]
     },
     "execution_count": 17,
     "metadata": {},
     "output_type": "execute_result"
    }
   ],
   "source": [
    "t1 = time.time()\n",
    "l3 = [l1[i]*l2[i] for i in range(1000000)]\n",
    "t2 = time.time()\n",
    "t2-t1"
   ]
  },
  {
   "cell_type": "code",
   "execution_count": 19,
   "id": "aca8a03a-37d9-4df3-8ef3-5aeb2963f274",
   "metadata": {},
   "outputs": [
    {
     "data": {
      "text/plain": [
       "0.019862651824951172"
      ]
     },
     "execution_count": 19,
     "metadata": {},
     "output_type": "execute_result"
    }
   ],
   "source": [
    "n1= np.array(l1)\n",
    "n2= np.array(l2)\n",
    "t3 = time.time()\n",
    "n3 = n1*n2\n",
    "t4 = time.time()\n",
    "t4-t3"
   ]
  },
  {
   "cell_type": "code",
   "execution_count": 21,
   "id": "77d55555-d56b-4333-b313-5ba08042eab0",
   "metadata": {},
   "outputs": [
    {
     "data": {
      "text/plain": [
       "9.950258072260233"
      ]
     },
     "execution_count": 21,
     "metadata": {},
     "output_type": "execute_result"
    }
   ],
   "source": [
    "(t2-t1)/(t4-t3)"
   ]
  },
  {
   "cell_type": "markdown",
   "id": "3677fd01-ec8a-4b94-aac2-4d39e3fcfc59",
   "metadata": {},
   "source": [
    "# NumPy Array"
   ]
  },
  {
   "cell_type": "code",
   "execution_count": 36,
   "id": "30abacc3-ae94-4321-a07a-a1126679fc16",
   "metadata": {},
   "outputs": [],
   "source": [
    "a=np.array([1,2,3])"
   ]
  },
  {
   "cell_type": "code",
   "execution_count": 38,
   "id": "d0c393f6-338c-4b5f-a958-2a93f6218582",
   "metadata": {},
   "outputs": [
    {
     "data": {
      "text/plain": [
       "array([1, 2, 3])"
      ]
     },
     "execution_count": 38,
     "metadata": {},
     "output_type": "execute_result"
    }
   ],
   "source": [
    "a"
   ]
  },
  {
   "cell_type": "code",
   "execution_count": 40,
   "id": "04ba4de2-5897-4023-95ce-6cad633a108e",
   "metadata": {},
   "outputs": [
    {
     "data": {
      "text/plain": [
       "array([0., 0.])"
      ]
     },
     "execution_count": 40,
     "metadata": {},
     "output_type": "execute_result"
    }
   ],
   "source": [
    "np.zeros(2)"
   ]
  },
  {
   "cell_type": "code",
   "execution_count": 52,
   "id": "6eeff967-be7a-44e2-8318-478ee5e656a1",
   "metadata": {},
   "outputs": [
    {
     "data": {
      "text/plain": [
       "array([0., 0., 0., 0., 0., 0., 0., 0., 0., 0.])"
      ]
     },
     "execution_count": 52,
     "metadata": {},
     "output_type": "execute_result"
    }
   ],
   "source": [
    "np.zeros(10) #values will be in float"
   ]
  },
  {
   "cell_type": "code",
   "execution_count": 46,
   "id": "61550c0b-7dce-45c2-af6f-5bba3c8a24d1",
   "metadata": {},
   "outputs": [
    {
     "data": {
      "text/plain": [
       "array([1., 1., 1., 1., 1., 1., 1., 1., 1., 1., 1., 1.])"
      ]
     },
     "execution_count": 46,
     "metadata": {},
     "output_type": "execute_result"
    }
   ],
   "source": [
    "np.ones(12)"
   ]
  },
  {
   "cell_type": "code",
   "execution_count": 50,
   "id": "489cf2af-c1f4-4a19-a043-25eaaea8fea8",
   "metadata": {},
   "outputs": [
    {
     "data": {
      "text/plain": [
       "array([[1., 0., 0.],\n",
       "       [0., 1., 0.],\n",
       "       [0., 0., 1.]])"
      ]
     },
     "execution_count": 50,
     "metadata": {},
     "output_type": "execute_result"
    }
   ],
   "source": [
    "np.eye(3) #creates an identity matrix"
   ]
  },
  {
   "cell_type": "code",
   "execution_count": 56,
   "id": "10bf6727-b431-4293-aed9-f74a5451fc4d",
   "metadata": {},
   "outputs": [
    {
     "data": {
      "text/plain": [
       "array([0, 1, 2, 3, 4])"
      ]
     },
     "execution_count": 56,
     "metadata": {},
     "output_type": "execute_result"
    }
   ],
   "source": [
    "np.arange(5)"
   ]
  },
  {
   "cell_type": "code",
   "execution_count": 58,
   "id": "fd78ed3e-dee2-4bf4-a5dc-20f1be11c3ef",
   "metadata": {},
   "outputs": [
    {
     "data": {
      "text/plain": [
       "array([2, 3, 4, 5, 6, 7, 8, 9])"
      ]
     },
     "execution_count": 58,
     "metadata": {},
     "output_type": "execute_result"
    }
   ],
   "source": [
    "np.arange(2,10)"
   ]
  },
  {
   "cell_type": "code",
   "execution_count": 60,
   "id": "4af52e4b-a561-46e7-a607-eb312c713af7",
   "metadata": {},
   "outputs": [
    {
     "data": {
      "text/plain": [
       "array([2, 4])"
      ]
     },
     "execution_count": 60,
     "metadata": {},
     "output_type": "execute_result"
    }
   ],
   "source": [
    "np.arange(2,6,2)"
   ]
  },
  {
   "cell_type": "markdown",
   "id": "93e5b9cc-342f-4129-b1f7-c43dbced01a3",
   "metadata": {},
   "source": [
    "## Indexing and Slicing"
   ]
  },
  {
   "cell_type": "code",
   "execution_count": 63,
   "id": "dcac9a5c-34aa-40bc-a84f-e166a9dc55e6",
   "metadata": {},
   "outputs": [],
   "source": [
    "data= np.array([1,2,3])"
   ]
  },
  {
   "cell_type": "code",
   "execution_count": 65,
   "id": "44d99e5d-32df-4261-8f89-6ef7aac4bc32",
   "metadata": {},
   "outputs": [
    {
     "data": {
      "text/plain": [
       "1"
      ]
     },
     "execution_count": 65,
     "metadata": {},
     "output_type": "execute_result"
    }
   ],
   "source": [
    "data[0]"
   ]
  },
  {
   "cell_type": "code",
   "execution_count": 67,
   "id": "b964bc1e-b5d9-4bcc-8050-e21eaacf753f",
   "metadata": {},
   "outputs": [
    {
     "data": {
      "text/plain": [
       "3"
      ]
     },
     "execution_count": 67,
     "metadata": {},
     "output_type": "execute_result"
    }
   ],
   "source": [
    "data[-1]"
   ]
  },
  {
   "cell_type": "code",
   "execution_count": 71,
   "id": "0464de01-a17f-4e3f-9495-bef630c51403",
   "metadata": {},
   "outputs": [
    {
     "data": {
      "text/plain": [
       "array([1, 2, 3])"
      ]
     },
     "execution_count": 71,
     "metadata": {},
     "output_type": "execute_result"
    }
   ],
   "source": [
    "data[-3:]"
   ]
  },
  {
   "cell_type": "code",
   "execution_count": 75,
   "id": "e865d8a5-117f-4ff7-8bfd-301d06520cb7",
   "metadata": {},
   "outputs": [
    {
     "data": {
      "text/plain": [
       "array([3, 2, 1])"
      ]
     },
     "execution_count": 75,
     "metadata": {},
     "output_type": "execute_result"
    }
   ],
   "source": [
    "data[-1::-1]"
   ]
  },
  {
   "cell_type": "markdown",
   "id": "99bac95f-7180-4932-a1e6-8276383b63ec",
   "metadata": {},
   "source": [
    "# Multi-dimen Arrays"
   ]
  },
  {
   "cell_type": "code",
   "execution_count": 12,
   "id": "a9c043a1-74cc-4cab-9abc-ac2f53c6e0d6",
   "metadata": {},
   "outputs": [],
   "source": [
    "a = np.array([[11,2,3],[4,5,6],[7,8,9],[14,15,16]])"
   ]
  },
  {
   "cell_type": "code",
   "execution_count": 14,
   "id": "0a7f7529-12c7-45f2-832c-fe4ded7bc5ec",
   "metadata": {},
   "outputs": [
    {
     "data": {
      "text/plain": [
       "array([[11,  2,  3],\n",
       "       [ 4,  5,  6],\n",
       "       [ 7,  8,  9],\n",
       "       [14, 15, 16]])"
      ]
     },
     "execution_count": 14,
     "metadata": {},
     "output_type": "execute_result"
    }
   ],
   "source": [
    "a"
   ]
  },
  {
   "cell_type": "code",
   "execution_count": 16,
   "id": "74fbfea8-63f4-4340-8651-2764e6a311a3",
   "metadata": {},
   "outputs": [
    {
     "data": {
      "text/plain": [
       "array([[False,  True,  True],\n",
       "       [ True, False, False],\n",
       "       [False, False, False],\n",
       "       [False, False, False]])"
      ]
     },
     "execution_count": 16,
     "metadata": {},
     "output_type": "execute_result"
    }
   ],
   "source": [
    "a<5"
   ]
  },
  {
   "cell_type": "code",
   "execution_count": 18,
   "id": "54652173-32d7-4096-a0b3-a08966d6a842",
   "metadata": {},
   "outputs": [
    {
     "data": {
      "text/plain": [
       "array([2, 3, 4])"
      ]
     },
     "execution_count": 18,
     "metadata": {},
     "output_type": "execute_result"
    }
   ],
   "source": [
    "a[a<5]"
   ]
  },
  {
   "cell_type": "code",
   "execution_count": 118,
   "id": "4afc8080-7aee-4511-b93b-a79681400327",
   "metadata": {},
   "outputs": [
    {
     "data": {
      "text/plain": [
       "array([ 6,  7,  8,  9, 14, 15, 16])"
      ]
     },
     "execution_count": 118,
     "metadata": {},
     "output_type": "execute_result"
    }
   ],
   "source": [
    "a[a>=6]"
   ]
  },
  {
   "cell_type": "code",
   "execution_count": 120,
   "id": "b5ebfeb9-e748-4051-95eb-9040a3b91fb3",
   "metadata": {},
   "outputs": [
    {
     "data": {
      "text/plain": [
       "array([ 2,  4,  6,  8, 14, 16])"
      ]
     },
     "execution_count": 120,
     "metadata": {},
     "output_type": "execute_result"
    }
   ],
   "source": [
    "a[a%2==0]"
   ]
  },
  {
   "cell_type": "markdown",
   "id": "234f81c6-2db2-4a56-8814-eba95fa0a559",
   "metadata": {},
   "source": [
    "# multiple conditions"
   ]
  },
  {
   "cell_type": "code",
   "execution_count": 133,
   "id": "055d6647-1545-43ec-a9f1-57616938a292",
   "metadata": {},
   "outputs": [
    {
     "data": {
      "text/plain": [
       "array([[False, False, False],\n",
       "       [ True, False,  True],\n",
       "       [False,  True, False],\n",
       "       [ True, False,  True]])"
      ]
     },
     "execution_count": 133,
     "metadata": {},
     "output_type": "execute_result"
    }
   ],
   "source": [
    "(a>2) & (a%2==0)"
   ]
  },
  {
   "cell_type": "code",
   "execution_count": 128,
   "id": "049a11ba-deca-41ee-a1fd-8a44e21b2dbe",
   "metadata": {},
   "outputs": [
    {
     "data": {
      "text/plain": [
       "array([ 4,  6,  8, 14, 16])"
      ]
     },
     "execution_count": 128,
     "metadata": {},
     "output_type": "execute_result"
    }
   ],
   "source": [
    "#multiple conditions\n",
    "a[(a>2) & (a%2==0)]"
   ]
  },
  {
   "cell_type": "code",
   "execution_count": 139,
   "id": "af8c16a1-bc23-473a-b357-8873413e87b3",
   "metadata": {},
   "outputs": [
    {
     "data": {
      "text/plain": [
       "array([ 2,  3,  4,  5,  6,  7,  8,  9, 14, 15, 16])"
      ]
     },
     "execution_count": 139,
     "metadata": {},
     "output_type": "execute_result"
    }
   ],
   "source": [
    "a[(a>2) | (a%2==0)]"
   ]
  },
  {
   "cell_type": "markdown",
   "id": "a9783d79-7470-444d-a6d6-83e2c10edef4",
   "metadata": {},
   "source": [
    "### Problems"
   ]
  },
  {
   "cell_type": "code",
   "execution_count": 142,
   "id": "5b25130a-8231-4468-9554-7ad6d14e00f8",
   "metadata": {},
   "outputs": [],
   "source": [
    "data = np.array([1,2])"
   ]
  },
  {
   "cell_type": "code",
   "execution_count": 144,
   "id": "04e258a9-5243-4cd1-ab13-c8ed31054d5b",
   "metadata": {},
   "outputs": [],
   "source": [
    "ones = np.ones(2)"
   ]
  },
  {
   "cell_type": "code",
   "execution_count": 146,
   "id": "7bfb562f-c6f5-4f84-8200-73933b573d85",
   "metadata": {},
   "outputs": [
    {
     "data": {
      "text/plain": [
       "array([2., 3.])"
      ]
     },
     "execution_count": 146,
     "metadata": {},
     "output_type": "execute_result"
    }
   ],
   "source": [
    "data + ones"
   ]
  },
  {
   "cell_type": "code",
   "execution_count": 148,
   "id": "0ec48c38-969d-4d77-a3a4-369545ea3a1f",
   "metadata": {},
   "outputs": [
    {
     "data": {
      "text/plain": [
       "array([1., 2.])"
      ]
     },
     "execution_count": 148,
     "metadata": {},
     "output_type": "execute_result"
    }
   ],
   "source": [
    "data * ones"
   ]
  },
  {
   "cell_type": "code",
   "execution_count": 152,
   "id": "5562fb1d-c64e-400a-96f8-0a33cf084e74",
   "metadata": {},
   "outputs": [],
   "source": [
    "a= np.array([1,2,3,4,5,6])"
   ]
  },
  {
   "cell_type": "code",
   "execution_count": 154,
   "id": "b6dc92aa-1f1e-4524-97cc-25e6ef92f778",
   "metadata": {},
   "outputs": [
    {
     "data": {
      "text/plain": [
       "21"
      ]
     },
     "execution_count": 154,
     "metadata": {},
     "output_type": "execute_result"
    }
   ],
   "source": [
    "a.sum()"
   ]
  },
  {
   "cell_type": "code",
   "execution_count": 156,
   "id": "79d2b453-5759-42c3-8d85-872458a8aaa4",
   "metadata": {},
   "outputs": [
    {
     "data": {
      "text/plain": [
       "['T',\n",
       " '__abs__',\n",
       " '__add__',\n",
       " '__and__',\n",
       " '__array__',\n",
       " '__array_finalize__',\n",
       " '__array_function__',\n",
       " '__array_interface__',\n",
       " '__array_prepare__',\n",
       " '__array_priority__',\n",
       " '__array_struct__',\n",
       " '__array_ufunc__',\n",
       " '__array_wrap__',\n",
       " '__bool__',\n",
       " '__buffer__',\n",
       " '__class__',\n",
       " '__class_getitem__',\n",
       " '__complex__',\n",
       " '__contains__',\n",
       " '__copy__',\n",
       " '__deepcopy__',\n",
       " '__delattr__',\n",
       " '__delitem__',\n",
       " '__dir__',\n",
       " '__divmod__',\n",
       " '__dlpack__',\n",
       " '__dlpack_device__',\n",
       " '__doc__',\n",
       " '__eq__',\n",
       " '__float__',\n",
       " '__floordiv__',\n",
       " '__format__',\n",
       " '__ge__',\n",
       " '__getattribute__',\n",
       " '__getitem__',\n",
       " '__getstate__',\n",
       " '__gt__',\n",
       " '__hash__',\n",
       " '__iadd__',\n",
       " '__iand__',\n",
       " '__ifloordiv__',\n",
       " '__ilshift__',\n",
       " '__imatmul__',\n",
       " '__imod__',\n",
       " '__imul__',\n",
       " '__index__',\n",
       " '__init__',\n",
       " '__init_subclass__',\n",
       " '__int__',\n",
       " '__invert__',\n",
       " '__ior__',\n",
       " '__ipow__',\n",
       " '__irshift__',\n",
       " '__isub__',\n",
       " '__iter__',\n",
       " '__itruediv__',\n",
       " '__ixor__',\n",
       " '__le__',\n",
       " '__len__',\n",
       " '__lshift__',\n",
       " '__lt__',\n",
       " '__matmul__',\n",
       " '__mod__',\n",
       " '__mul__',\n",
       " '__ne__',\n",
       " '__neg__',\n",
       " '__new__',\n",
       " '__or__',\n",
       " '__pos__',\n",
       " '__pow__',\n",
       " '__radd__',\n",
       " '__rand__',\n",
       " '__rdivmod__',\n",
       " '__reduce__',\n",
       " '__reduce_ex__',\n",
       " '__repr__',\n",
       " '__rfloordiv__',\n",
       " '__rlshift__',\n",
       " '__rmatmul__',\n",
       " '__rmod__',\n",
       " '__rmul__',\n",
       " '__ror__',\n",
       " '__rpow__',\n",
       " '__rrshift__',\n",
       " '__rshift__',\n",
       " '__rsub__',\n",
       " '__rtruediv__',\n",
       " '__rxor__',\n",
       " '__setattr__',\n",
       " '__setitem__',\n",
       " '__setstate__',\n",
       " '__sizeof__',\n",
       " '__str__',\n",
       " '__sub__',\n",
       " '__subclasshook__',\n",
       " '__truediv__',\n",
       " '__xor__',\n",
       " 'all',\n",
       " 'any',\n",
       " 'argmax',\n",
       " 'argmin',\n",
       " 'argpartition',\n",
       " 'argsort',\n",
       " 'astype',\n",
       " 'base',\n",
       " 'byteswap',\n",
       " 'choose',\n",
       " 'clip',\n",
       " 'compress',\n",
       " 'conj',\n",
       " 'conjugate',\n",
       " 'copy',\n",
       " 'ctypes',\n",
       " 'cumprod',\n",
       " 'cumsum',\n",
       " 'data',\n",
       " 'diagonal',\n",
       " 'dot',\n",
       " 'dtype',\n",
       " 'dump',\n",
       " 'dumps',\n",
       " 'fill',\n",
       " 'flags',\n",
       " 'flat',\n",
       " 'flatten',\n",
       " 'getfield',\n",
       " 'imag',\n",
       " 'item',\n",
       " 'itemset',\n",
       " 'itemsize',\n",
       " 'max',\n",
       " 'mean',\n",
       " 'min',\n",
       " 'nbytes',\n",
       " 'ndim',\n",
       " 'newbyteorder',\n",
       " 'nonzero',\n",
       " 'partition',\n",
       " 'prod',\n",
       " 'ptp',\n",
       " 'put',\n",
       " 'ravel',\n",
       " 'real',\n",
       " 'repeat',\n",
       " 'reshape',\n",
       " 'resize',\n",
       " 'round',\n",
       " 'searchsorted',\n",
       " 'setfield',\n",
       " 'setflags',\n",
       " 'shape',\n",
       " 'size',\n",
       " 'sort',\n",
       " 'squeeze',\n",
       " 'std',\n",
       " 'strides',\n",
       " 'sum',\n",
       " 'swapaxes',\n",
       " 'take',\n",
       " 'tobytes',\n",
       " 'tofile',\n",
       " 'tolist',\n",
       " 'tostring',\n",
       " 'trace',\n",
       " 'transpose',\n",
       " 'var',\n",
       " 'view']"
      ]
     },
     "execution_count": 156,
     "metadata": {},
     "output_type": "execute_result"
    }
   ],
   "source": [
    "dir(a)"
   ]
  },
  {
   "cell_type": "code",
   "execution_count": 158,
   "id": "d709f1ea-da24-4f52-ac0d-13d0f0e4e453",
   "metadata": {},
   "outputs": [],
   "source": [
    "b= np.array([[1,2,3],[4,5,6],[7,8,9],[14,15,16]])"
   ]
  },
  {
   "cell_type": "code",
   "execution_count": 166,
   "id": "b1f7f419-db7a-4965-97bb-fdc126bd81d0",
   "metadata": {},
   "outputs": [
    {
     "data": {
      "text/plain": [
       "array([[ 1,  2,  3],\n",
       "       [ 4,  5,  6],\n",
       "       [ 7,  8,  9],\n",
       "       [14, 15, 16]])"
      ]
     },
     "execution_count": 166,
     "metadata": {},
     "output_type": "execute_result"
    }
   ],
   "source": [
    "b"
   ]
  },
  {
   "cell_type": "code",
   "execution_count": 160,
   "id": "d55b2ae1-e2a6-4502-80e8-391c1f41880e",
   "metadata": {},
   "outputs": [
    {
     "data": {
      "text/plain": [
       "90"
      ]
     },
     "execution_count": 160,
     "metadata": {},
     "output_type": "execute_result"
    }
   ],
   "source": [
    "b.sum()"
   ]
  },
  {
   "cell_type": "code",
   "execution_count": 174,
   "id": "67e82349-5e82-400a-af3c-3d43073d7ece",
   "metadata": {},
   "outputs": [
    {
     "data": {
      "text/plain": [
       "array([ 6, 15, 24, 45])"
      ]
     },
     "execution_count": 174,
     "metadata": {},
     "output_type": "execute_result"
    }
   ],
   "source": [
    "b.sum(axis=1)"
   ]
  },
  {
   "cell_type": "code",
   "execution_count": 178,
   "id": "6c4572d4-e2fb-4cea-977e-b31290bef85a",
   "metadata": {},
   "outputs": [
    {
     "data": {
      "text/plain": [
       "array([26, 30, 34])"
      ]
     },
     "execution_count": 178,
     "metadata": {},
     "output_type": "execute_result"
    }
   ],
   "source": [
    "b.sum(axis=0)"
   ]
  },
  {
   "cell_type": "markdown",
   "id": "a30e761e-56e5-46c8-ae96-47be762ae2bf",
   "metadata": {},
   "source": [
    "## adding, removing and sorting"
   ]
  },
  {
   "cell_type": "code",
   "execution_count": 193,
   "id": "f8601650-bdee-46b6-ae6b-820c62818957",
   "metadata": {},
   "outputs": [],
   "source": [
    "arr = np.array([7,8,9,5,1,4,5,2,6,3,5,4,1,2,2])"
   ]
  },
  {
   "cell_type": "code",
   "execution_count": 206,
   "id": "5c2e9f5d-d7f4-4c3b-a867-ffc61ef6ad22",
   "metadata": {},
   "outputs": [
    {
     "data": {
      "text/plain": [
       "array([1, 1, 2, 2, 2, 3, 4, 4, 5, 5, 5, 6, 7, 8, 9])"
      ]
     },
     "execution_count": 206,
     "metadata": {},
     "output_type": "execute_result"
    }
   ],
   "source": [
    "arr.sort()\n",
    "arr"
   ]
  },
  {
   "cell_type": "code",
   "execution_count": 208,
   "id": "922c8b79-35e8-4581-9f42-6566906260fb",
   "metadata": {},
   "outputs": [
    {
     "data": {
      "text/plain": [
       "array([1, 1, 2, 2, 2, 3, 4, 4, 5, 5, 5, 6, 7, 8, 9])"
      ]
     },
     "execution_count": 208,
     "metadata": {},
     "output_type": "execute_result"
    }
   ],
   "source": [
    "np.sort(arr)"
   ]
  },
  {
   "cell_type": "code",
   "execution_count": 199,
   "id": "b4bb6f8e-9cd9-4b49-98bb-53ca4866557a",
   "metadata": {},
   "outputs": [
    {
     "data": {
      "text/plain": [
       "64"
      ]
     },
     "execution_count": 199,
     "metadata": {},
     "output_type": "execute_result"
    }
   ],
   "source": [
    "arr.sum()"
   ]
  },
  {
   "cell_type": "markdown",
   "id": "2f1bd793-e32b-4dad-9290-60dfe8c90095",
   "metadata": {},
   "source": [
    "#### Concatenate"
   ]
  },
  {
   "cell_type": "code",
   "execution_count": 22,
   "id": "f65028c4-a2ce-4295-b3ee-8111bd53b960",
   "metadata": {},
   "outputs": [],
   "source": [
    "a= np.array([1,2,3])\n",
    "b= np.array([4,5,6])"
   ]
  },
  {
   "cell_type": "code",
   "execution_count": 220,
   "id": "30dae144-6036-44ef-8b04-ecdeab55a4b7",
   "metadata": {},
   "outputs": [
    {
     "data": {
      "text/plain": [
       "array([1, 2, 3, 4, 5, 6])"
      ]
     },
     "execution_count": 220,
     "metadata": {},
     "output_type": "execute_result"
    }
   ],
   "source": [
    "np.concatenate((a,b))"
   ]
  },
  {
   "cell_type": "code",
   "execution_count": 222,
   "id": "c75ed437-c43f-4429-b1cb-b70070d7ca83",
   "metadata": {},
   "outputs": [
    {
     "data": {
      "text/plain": [
       "(array([1, 2, 3]), array([4, 5, 6]))"
      ]
     },
     "execution_count": 222,
     "metadata": {},
     "output_type": "execute_result"
    }
   ],
   "source": [
    "(a,b)"
   ]
  },
  {
   "cell_type": "code",
   "execution_count": 24,
   "id": "54f4583a-0e89-416e-a463-74877153b96d",
   "metadata": {},
   "outputs": [],
   "source": [
    "b= np.array([[1,2,3],[4,5,6],[7,8,9],[14,15,16]])"
   ]
  },
  {
   "cell_type": "code",
   "execution_count": 226,
   "id": "7883d1b1-f20a-4e68-9a8b-415b739f40b9",
   "metadata": {},
   "outputs": [
    {
     "data": {
      "text/plain": [
       "array([[ 1,  2,  3],\n",
       "       [ 4,  5,  6],\n",
       "       [ 7,  8,  9],\n",
       "       [14, 15, 16]])"
      ]
     },
     "execution_count": 226,
     "metadata": {},
     "output_type": "execute_result"
    }
   ],
   "source": [
    "b"
   ]
  },
  {
   "cell_type": "code",
   "execution_count": 26,
   "id": "989f4f10-01eb-4203-baa2-ec93228e285c",
   "metadata": {},
   "outputs": [],
   "source": [
    "c= np.array([[14,22,3],[44,15,16],[7,8,9],[14,15,16]])"
   ]
  },
  {
   "cell_type": "code",
   "execution_count": 230,
   "id": "fb87a98a-1510-44bf-bb59-b35e537a9d2e",
   "metadata": {},
   "outputs": [
    {
     "data": {
      "text/plain": [
       "array([[14, 22,  3],\n",
       "       [44, 15, 16],\n",
       "       [ 7,  8,  9],\n",
       "       [14, 15, 16]])"
      ]
     },
     "execution_count": 230,
     "metadata": {},
     "output_type": "execute_result"
    }
   ],
   "source": [
    "c"
   ]
  },
  {
   "cell_type": "code",
   "execution_count": 32,
   "id": "68666e23-8dbf-4045-b8fe-5209aef8e44b",
   "metadata": {},
   "outputs": [],
   "source": [
    "z=np.concatenate((b,c),axis=1)"
   ]
  },
  {
   "cell_type": "code",
   "execution_count": 34,
   "id": "54610db5-08f9-4e6e-9034-48727360c591",
   "metadata": {},
   "outputs": [
    {
     "data": {
      "text/plain": [
       "array([[ 1,  2,  3, 14, 22,  3],\n",
       "       [ 4,  5,  6, 44, 15, 16],\n",
       "       [ 7,  8,  9,  7,  8,  9],\n",
       "       [14, 15, 16, 14, 15, 16]])"
      ]
     },
     "execution_count": 34,
     "metadata": {},
     "output_type": "execute_result"
    }
   ],
   "source": [
    "z"
   ]
  },
  {
   "cell_type": "code",
   "execution_count": 254,
   "id": "40bea030-8712-4cf8-ade2-95054acc1746",
   "metadata": {},
   "outputs": [
    {
     "data": {
      "text/plain": [
       "(8, 3)"
      ]
     },
     "execution_count": 254,
     "metadata": {},
     "output_type": "execute_result"
    }
   ],
   "source": [
    "z.shape"
   ]
  },
  {
   "cell_type": "code",
   "execution_count": 246,
   "id": "a45f6198-712c-4a35-ae5d-b42dc7373598",
   "metadata": {},
   "outputs": [
    {
     "data": {
      "text/plain": [
       "(4, 3)"
      ]
     },
     "execution_count": 246,
     "metadata": {},
     "output_type": "execute_result"
    }
   ],
   "source": [
    "c.shape"
   ]
  },
  {
   "cell_type": "code",
   "execution_count": 248,
   "id": "ea8b1324-7ff3-4adc-89af-7dd80a1197e5",
   "metadata": {},
   "outputs": [
    {
     "data": {
      "text/plain": [
       "2"
      ]
     },
     "execution_count": 248,
     "metadata": {},
     "output_type": "execute_result"
    }
   ],
   "source": [
    "z.ndim"
   ]
  },
  {
   "cell_type": "code",
   "execution_count": 260,
   "id": "8f855626-cdb2-4bd1-afe1-ddfaa5518ba5",
   "metadata": {},
   "outputs": [
    {
     "data": {
      "text/plain": [
       "24"
      ]
     },
     "execution_count": 260,
     "metadata": {},
     "output_type": "execute_result"
    }
   ],
   "source": [
    "z.size"
   ]
  },
  {
   "cell_type": "markdown",
   "id": "2c393f0e-3d34-4588-b466-64cc1a6f3428",
   "metadata": {},
   "source": [
    "## Broadcasting"
   ]
  },
  {
   "cell_type": "code",
   "execution_count": 263,
   "id": "93d5efeb-4fb3-45e0-a060-cce400615943",
   "metadata": {},
   "outputs": [],
   "source": [
    "d = np.array([1,2,3,3,3,6,4,8])"
   ]
  },
  {
   "cell_type": "code",
   "execution_count": 265,
   "id": "22f60fab-d592-42eb-9250-1e4aefade3ad",
   "metadata": {},
   "outputs": [
    {
     "data": {
      "text/plain": [
       "array([1.2, 2.4, 3.6, 3.6, 3.6, 7.2, 4.8, 9.6])"
      ]
     },
     "execution_count": 265,
     "metadata": {},
     "output_type": "execute_result"
    }
   ],
   "source": [
    "d * 1.2"
   ]
  },
  {
   "cell_type": "code",
   "execution_count": 267,
   "id": "860ce94d-022c-4032-905f-8467db810e6f",
   "metadata": {},
   "outputs": [
    {
     "data": {
      "text/plain": [
       "1"
      ]
     },
     "execution_count": 267,
     "metadata": {},
     "output_type": "execute_result"
    }
   ],
   "source": [
    "d.min()"
   ]
  },
  {
   "cell_type": "code",
   "execution_count": 269,
   "id": "86c030ba-572d-4012-b78b-29901e202f4d",
   "metadata": {},
   "outputs": [
    {
     "data": {
      "text/plain": [
       "8"
      ]
     },
     "execution_count": 269,
     "metadata": {},
     "output_type": "execute_result"
    }
   ],
   "source": [
    "d.max()"
   ]
  },
  {
   "cell_type": "code",
   "execution_count": 271,
   "id": "303d62e3-c19b-4abe-8601-d393ae446236",
   "metadata": {},
   "outputs": [
    {
     "data": {
      "text/plain": [
       "30"
      ]
     },
     "execution_count": 271,
     "metadata": {},
     "output_type": "execute_result"
    }
   ],
   "source": [
    "d.sum()"
   ]
  },
  {
   "cell_type": "code",
   "execution_count": 273,
   "id": "715b23f5-dace-4259-8e56-87cd1f8ae328",
   "metadata": {},
   "outputs": [
    {
     "data": {
      "text/plain": [
       "1"
      ]
     },
     "execution_count": 273,
     "metadata": {},
     "output_type": "execute_result"
    }
   ],
   "source": [
    "d.ndim"
   ]
  },
  {
   "cell_type": "code",
   "execution_count": 275,
   "id": "7d4e6d95-9edd-458d-8be7-b8040d72670f",
   "metadata": {},
   "outputs": [
    {
     "data": {
      "text/plain": [
       "(8,)"
      ]
     },
     "execution_count": 275,
     "metadata": {},
     "output_type": "execute_result"
    }
   ],
   "source": [
    "d.shape"
   ]
  },
  {
   "cell_type": "code",
   "execution_count": 277,
   "id": "9fb13b7d-0e5c-4874-b216-23683b64e96c",
   "metadata": {},
   "outputs": [],
   "source": [
    "a = np.array([\n",
    "    [[1, 2, 3],\n",
    "     [4, 5, 6]],\n",
    "\n",
    "    [[7, 8, 9],\n",
    "     [10, 11, 12]]\n",
    "])"
   ]
  },
  {
   "cell_type": "code",
   "execution_count": 279,
   "id": "c0899a17-be34-48ad-b0a3-64830cce3246",
   "metadata": {},
   "outputs": [
    {
     "data": {
      "text/plain": [
       "(2, 2, 3)"
      ]
     },
     "execution_count": 279,
     "metadata": {},
     "output_type": "execute_result"
    }
   ],
   "source": [
    "a.shape"
   ]
  },
  {
   "cell_type": "code",
   "execution_count": 281,
   "id": "fe625a7e-c711-404e-ac0f-3cfb9b20a847",
   "metadata": {},
   "outputs": [
    {
     "data": {
      "text/plain": [
       "array([[ 8, 10, 12],\n",
       "       [14, 16, 18]])"
      ]
     },
     "execution_count": 281,
     "metadata": {},
     "output_type": "execute_result"
    }
   ],
   "source": [
    "a.sum(axis=0)"
   ]
  },
  {
   "cell_type": "code",
   "execution_count": 283,
   "id": "c1b07416-c3b3-4611-8406-3faa71092a84",
   "metadata": {},
   "outputs": [
    {
     "data": {
      "text/plain": [
       "array([[ 5,  7,  9],\n",
       "       [17, 19, 21]])"
      ]
     },
     "execution_count": 283,
     "metadata": {},
     "output_type": "execute_result"
    }
   ],
   "source": [
    "a.sum(axis=1)"
   ]
  },
  {
   "cell_type": "code",
   "execution_count": 285,
   "id": "0e603334-cfcf-4933-9176-261f69c42919",
   "metadata": {},
   "outputs": [
    {
     "data": {
      "text/plain": [
       "array([[ 6, 15],\n",
       "       [24, 33]])"
      ]
     },
     "execution_count": 285,
     "metadata": {},
     "output_type": "execute_result"
    }
   ],
   "source": [
    "a.sum(axis=2)"
   ]
  },
  {
   "cell_type": "code",
   "execution_count": 291,
   "id": "c64d5c69-2ba8-43ae-b3a1-d4e24fb76a1a",
   "metadata": {},
   "outputs": [],
   "source": [
    "a =np.random.randint(1,25,(4,5))"
   ]
  },
  {
   "cell_type": "code",
   "execution_count": 293,
   "id": "e8c3a90b-64fa-4be7-9970-22920d06452b",
   "metadata": {},
   "outputs": [
    {
     "data": {
      "text/plain": [
       "array([[22,  8, 20,  2, 20],\n",
       "       [ 9, 20, 19, 17, 16],\n",
       "       [ 2, 15, 22, 24,  8],\n",
       "       [ 5, 18, 16, 24,  4]])"
      ]
     },
     "execution_count": 293,
     "metadata": {},
     "output_type": "execute_result"
    }
   ],
   "source": [
    "a"
   ]
  },
  {
   "cell_type": "code",
   "execution_count": 295,
   "id": "ac3e2dda-7511-4065-9720-4a436defd58e",
   "metadata": {},
   "outputs": [
    {
     "data": {
      "text/plain": [
       "array([[20, 19],\n",
       "       [15, 22]])"
      ]
     },
     "execution_count": 295,
     "metadata": {},
     "output_type": "execute_result"
    }
   ],
   "source": [
    "a[1:3,1:3]"
   ]
  },
  {
   "cell_type": "markdown",
   "id": "66edb9ad-85ec-4a4d-82a5-661d8fdc1912",
   "metadata": {},
   "source": [
    "## Matrices"
   ]
  },
  {
   "cell_type": "code",
   "execution_count": 6,
   "id": "a98e85fe-0c79-4ef9-adbf-c9caf6b29a45",
   "metadata": {},
   "outputs": [],
   "source": [
    "import numpy as np\n",
    "data = np.array([[1,2],[3,4],[5,6]])"
   ]
  },
  {
   "cell_type": "code",
   "execution_count": 8,
   "id": "92fc70be-34fa-46ea-86fa-800343f52971",
   "metadata": {},
   "outputs": [
    {
     "data": {
      "text/plain": [
       "array([[1, 2],\n",
       "       [3, 4],\n",
       "       [5, 6]])"
      ]
     },
     "execution_count": 8,
     "metadata": {},
     "output_type": "execute_result"
    }
   ],
   "source": [
    "data"
   ]
  },
  {
   "cell_type": "code",
   "execution_count": 10,
   "id": "48f93e20-d25a-4af9-bc02-a945c18c652d",
   "metadata": {},
   "outputs": [
    {
     "data": {
      "text/plain": [
       "2"
      ]
     },
     "execution_count": 10,
     "metadata": {},
     "output_type": "execute_result"
    }
   ],
   "source": [
    "data[0,1]"
   ]
  },
  {
   "cell_type": "code",
   "execution_count": 12,
   "id": "3ccb6c0e-2401-4eed-aa1f-120f696ce687",
   "metadata": {},
   "outputs": [
    {
     "data": {
      "text/plain": [
       "array([[3, 4],\n",
       "       [5, 6]])"
      ]
     },
     "execution_count": 12,
     "metadata": {},
     "output_type": "execute_result"
    }
   ],
   "source": [
    "data[1:3]"
   ]
  },
  {
   "cell_type": "markdown",
   "id": "28569ec4-eb81-48b0-bb6b-8d361572b0cd",
   "metadata": {},
   "source": [
    "## Aggregation"
   ]
  },
  {
   "cell_type": "code",
   "execution_count": 16,
   "id": "7cb50d80-c159-4634-b823-ce3d3c3f1305",
   "metadata": {},
   "outputs": [],
   "source": [
    "a =np.random.randint(1,25,(4,5))"
   ]
  },
  {
   "cell_type": "code",
   "execution_count": 18,
   "id": "6c59b592-f41c-4ec3-9f7b-930e9aba465f",
   "metadata": {},
   "outputs": [
    {
     "data": {
      "text/plain": [
       "array([[21, 11, 23, 14, 20],\n",
       "       [13,  9, 15, 12, 11],\n",
       "       [20, 13,  5, 12, 19],\n",
       "       [ 1, 20, 17, 11, 15]])"
      ]
     },
     "execution_count": 18,
     "metadata": {},
     "output_type": "execute_result"
    }
   ],
   "source": [
    "a"
   ]
  },
  {
   "cell_type": "code",
   "execution_count": 20,
   "id": "733d4e71-89d6-4e06-820f-118352a27f67",
   "metadata": {},
   "outputs": [
    {
     "data": {
      "text/plain": [
       "array([[ 9, 15, 12],\n",
       "       [13,  5, 12]])"
      ]
     },
     "execution_count": 20,
     "metadata": {},
     "output_type": "execute_result"
    }
   ],
   "source": [
    "a[1:3,1:4]"
   ]
  },
  {
   "cell_type": "markdown",
   "id": "27442d28-3e9c-43dd-b3ee-de6f522cf669",
   "metadata": {},
   "source": [
    "### MMatrices addition, sub, Multipl"
   ]
  },
  {
   "cell_type": "code",
   "execution_count": 55,
   "id": "66c0e9e5-c4ef-4679-99d8-d60ed82907a7",
   "metadata": {},
   "outputs": [],
   "source": [
    "data=np.array([[1,5],[8,9]])\n",
    "ones=np.array([[1,2],[4,5]])"
   ]
  },
  {
   "cell_type": "code",
   "execution_count": 57,
   "id": "2370dd90-c572-42cc-8fda-2c4c711d1260",
   "metadata": {},
   "outputs": [
    {
     "data": {
      "text/plain": [
       "array([[1, 5],\n",
       "       [8, 9]])"
      ]
     },
     "execution_count": 57,
     "metadata": {},
     "output_type": "execute_result"
    }
   ],
   "source": [
    "data"
   ]
  },
  {
   "cell_type": "code",
   "execution_count": 59,
   "id": "ec90ad64-bcef-4db9-9e11-208f120f2de4",
   "metadata": {},
   "outputs": [
    {
     "data": {
      "text/plain": [
       "array([[1, 2],\n",
       "       [4, 5]])"
      ]
     },
     "execution_count": 59,
     "metadata": {},
     "output_type": "execute_result"
    }
   ],
   "source": [
    "ones"
   ]
  },
  {
   "cell_type": "code",
   "execution_count": 61,
   "id": "aefc022b-3c74-428b-a302-e674de5da119",
   "metadata": {},
   "outputs": [
    {
     "data": {
      "text/plain": [
       "array([[ 2,  7],\n",
       "       [12, 14]])"
      ]
     },
     "execution_count": 61,
     "metadata": {},
     "output_type": "execute_result"
    }
   ],
   "source": [
    "data + ones"
   ]
  },
  {
   "cell_type": "code",
   "execution_count": 63,
   "id": "9236d808-973d-4a4c-97e2-a0ef6a3dbfcb",
   "metadata": {},
   "outputs": [
    {
     "data": {
      "text/plain": [
       "array([[0, 3],\n",
       "       [4, 4]])"
      ]
     },
     "execution_count": 63,
     "metadata": {},
     "output_type": "execute_result"
    }
   ],
   "source": [
    "data-ones"
   ]
  },
  {
   "cell_type": "code",
   "execution_count": 65,
   "id": "8c95a870-2ea4-4149-b1be-60370f19d439",
   "metadata": {},
   "outputs": [
    {
     "data": {
      "text/plain": [
       "array([[ 1, 10],\n",
       "       [32, 45]])"
      ]
     },
     "execution_count": 65,
     "metadata": {},
     "output_type": "execute_result"
    }
   ],
   "source": [
    "data*ones"
   ]
  },
  {
   "cell_type": "markdown",
   "id": "4d1313ba-db87-4d16-8223-0fd0ad8cbddb",
   "metadata": {},
   "source": [
    "## unique and count"
   ]
  },
  {
   "cell_type": "code",
   "execution_count": 68,
   "id": "3704d40e-94bd-40eb-bc80-9f12564565d9",
   "metadata": {},
   "outputs": [],
   "source": [
    "from numpy import *"
   ]
  },
  {
   "cell_type": "code",
   "execution_count": 72,
   "id": "438b1a87-7fad-4733-b591-6d2b456135ba",
   "metadata": {},
   "outputs": [],
   "source": [
    "a = np.array([1,5,1,2,4,5,55,6,32,4,8,88,9,6,5,5,2,1])"
   ]
  },
  {
   "cell_type": "code",
   "execution_count": 147,
   "id": "0e1f83d3-4663-46ce-a361-fbd938a515c6",
   "metadata": {},
   "outputs": [
    {
     "data": {
      "text/plain": [
       "array([ 1,  2,  4,  5,  6,  8,  9, 32, 55, 88])"
      ]
     },
     "execution_count": 147,
     "metadata": {},
     "output_type": "execute_result"
    }
   ],
   "source": [
    "np.unique(a)"
   ]
  },
  {
   "cell_type": "code",
   "execution_count": 90,
   "id": "43708103-cc55-4b06-b1cc-c22f6db238f8",
   "metadata": {},
   "outputs": [],
   "source": [
    "data = np.array([[1,2,3],[4,5,6]])"
   ]
  },
  {
   "cell_type": "code",
   "execution_count": 92,
   "id": "99dae7ca-c5ca-4b9c-b9dc-6a12ffc9cbdd",
   "metadata": {},
   "outputs": [
    {
     "data": {
      "text/plain": [
       "array([[1, 2, 3],\n",
       "       [4, 5, 6]])"
      ]
     },
     "execution_count": 92,
     "metadata": {},
     "output_type": "execute_result"
    }
   ],
   "source": [
    "data"
   ]
  },
  {
   "cell_type": "code",
   "execution_count": 94,
   "id": "7028406f-404c-4828-88e5-12f3a15e7ef9",
   "metadata": {},
   "outputs": [
    {
     "data": {
      "text/plain": [
       "array([[1, 4],\n",
       "       [2, 5],\n",
       "       [3, 6]])"
      ]
     },
     "execution_count": 94,
     "metadata": {},
     "output_type": "execute_result"
    }
   ],
   "source": [
    "np.transpose(data)"
   ]
  },
  {
   "cell_type": "code",
   "execution_count": 98,
   "id": "7c1fb23e-9c69-46cc-bb95-256cd3b5b687",
   "metadata": {},
   "outputs": [
    {
     "data": {
      "text/plain": [
       "(2, 3)"
      ]
     },
     "execution_count": 98,
     "metadata": {},
     "output_type": "execute_result"
    }
   ],
   "source": [
    "np.shape(data)"
   ]
  },
  {
   "cell_type": "code",
   "execution_count": 100,
   "id": "fc638a27-5285-41cc-bb2b-2d3492e1c451",
   "metadata": {},
   "outputs": [
    {
     "data": {
      "text/plain": [
       "array([[1, 4],\n",
       "       [2, 5],\n",
       "       [3, 6]])"
      ]
     },
     "execution_count": 100,
     "metadata": {},
     "output_type": "execute_result"
    }
   ],
   "source": [
    "data.transpose()"
   ]
  },
  {
   "cell_type": "code",
   "execution_count": 108,
   "id": "007c5068-05d5-41e4-a494-4bffc627b726",
   "metadata": {},
   "outputs": [
    {
     "data": {
      "text/plain": [
       "array([[1, 4],\n",
       "       [2, 5],\n",
       "       [3, 6]])"
      ]
     },
     "execution_count": 108,
     "metadata": {},
     "output_type": "execute_result"
    }
   ],
   "source": [
    "data.T"
   ]
  },
  {
   "cell_type": "code",
   "execution_count": 110,
   "id": "f7afb9d5-c1d7-431e-a7ae-4787b2064989",
   "metadata": {},
   "outputs": [
    {
     "data": {
      "text/plain": [
       "array([[1, 4],\n",
       "       [2, 5],\n",
       "       [3, 6]])"
      ]
     },
     "execution_count": 110,
     "metadata": {},
     "output_type": "execute_result"
    }
   ],
   "source": [
    "transpose(data)"
   ]
  },
  {
   "cell_type": "code",
   "execution_count": 112,
   "id": "0aab551a-3716-4ad3-abf4-e57d826e875d",
   "metadata": {},
   "outputs": [
    {
     "data": {
      "text/plain": [
       "array([[6, 5, 4],\n",
       "       [3, 2, 1]])"
      ]
     },
     "execution_count": 112,
     "metadata": {},
     "output_type": "execute_result"
    }
   ],
   "source": [
    "np.flip(data)"
   ]
  },
  {
   "cell_type": "markdown",
   "id": "feff4a41-68e7-4140-b9d8-d8c5d568df7d",
   "metadata": {},
   "source": [
    "## Matrix Operations"
   ]
  },
  {
   "cell_type": "code",
   "execution_count": 42,
   "id": "aaa46dde-b302-417e-8500-00566466c241",
   "metadata": {},
   "outputs": [],
   "source": [
    "n1=np.random.randint(1,5,(3,3))"
   ]
  },
  {
   "cell_type": "code",
   "execution_count": 133,
   "id": "0b3b5349-77c6-4ac5-b8e6-48e36a80f37b",
   "metadata": {},
   "outputs": [
    {
     "data": {
      "text/plain": [
       "array([[1, 2, 4],\n",
       "       [2, 3, 4],\n",
       "       [4, 2, 3]])"
      ]
     },
     "execution_count": 133,
     "metadata": {},
     "output_type": "execute_result"
    }
   ],
   "source": [
    "n1"
   ]
  },
  {
   "cell_type": "code",
   "execution_count": 125,
   "id": "963c2710-1064-45b8-9037-d9b746912370",
   "metadata": {},
   "outputs": [],
   "source": [
    "# Calculate inverse of matrix"
   ]
  },
  {
   "cell_type": "code",
   "execution_count": 135,
   "id": "f1fc1884-35cd-4b8b-a23a-e7f370710000",
   "metadata": {},
   "outputs": [],
   "source": [
    "n1_inv = np.linalg.inv(n1)"
   ]
  },
  {
   "cell_type": "code",
   "execution_count": 137,
   "id": "af940c35-e7a2-4ef1-9a2a-262553c4f4e3",
   "metadata": {},
   "outputs": [
    {
     "data": {
      "text/plain": [
       "array([[-0.09090909, -0.18181818,  0.36363636],\n",
       "       [-0.90909091,  1.18181818, -0.36363636],\n",
       "       [ 0.72727273, -0.54545455,  0.09090909]])"
      ]
     },
     "execution_count": 137,
     "metadata": {},
     "output_type": "execute_result"
    }
   ],
   "source": [
    "n1_inv"
   ]
  },
  {
   "cell_type": "code",
   "execution_count": 149,
   "id": "d63f791c-e4f9-4bc5-b0b0-ff587957fa47",
   "metadata": {},
   "outputs": [
    {
     "data": {
      "text/plain": [
       "array([[1.00000000e+00, 0.00000000e+00, 0.00000000e+00],\n",
       "       [0.00000000e+00, 1.00000000e+00, 1.11022302e-16],\n",
       "       [2.22044605e-16, 0.00000000e+00, 1.00000000e+00]])"
      ]
     },
     "execution_count": 149,
     "metadata": {},
     "output_type": "execute_result"
    }
   ],
   "source": [
    "np.dot(n1,n1_inv)"
   ]
  },
  {
   "cell_type": "code",
   "execution_count": 36,
   "id": "a75e15f3-32d9-4bb9-a6a2-63fd11a2de2c",
   "metadata": {},
   "outputs": [],
   "source": [
    "n2=np.random.randint(1,10,(3,2))"
   ]
  },
  {
   "cell_type": "code",
   "execution_count": 153,
   "id": "1be0a999-ea5e-4547-b256-0f6bc08095e7",
   "metadata": {},
   "outputs": [
    {
     "data": {
      "text/plain": [
       "array([[1, 4],\n",
       "       [9, 6],\n",
       "       [2, 4]])"
      ]
     },
     "execution_count": 153,
     "metadata": {},
     "output_type": "execute_result"
    }
   ],
   "source": [
    "n2"
   ]
  },
  {
   "cell_type": "code",
   "execution_count": 38,
   "id": "8c24c7a1-8b78-441c-b06e-2ee48575f027",
   "metadata": {},
   "outputs": [],
   "source": [
    "n3=np.random.randint(1,8,(2,3))"
   ]
  },
  {
   "cell_type": "code",
   "execution_count": 157,
   "id": "4a6eadc5-6ca3-474d-bf19-e5b644550146",
   "metadata": {},
   "outputs": [
    {
     "data": {
      "text/plain": [
       "array([[3, 1, 1],\n",
       "       [5, 6, 6]])"
      ]
     },
     "execution_count": 157,
     "metadata": {},
     "output_type": "execute_result"
    }
   ],
   "source": [
    "n3"
   ]
  },
  {
   "cell_type": "code",
   "execution_count": 46,
   "id": "814a36f3-0891-49ec-89d2-08ebd85455b8",
   "metadata": {},
   "outputs": [
    {
     "data": {
      "text/plain": [
       "array([[39, 75],\n",
       "       [38, 68],\n",
       "       [42, 77]])"
      ]
     },
     "execution_count": 46,
     "metadata": {},
     "output_type": "execute_result"
    }
   ],
   "source": [
    "np.dot(n1,n2)"
   ]
  },
  {
   "cell_type": "code",
   "execution_count": 44,
   "id": "73aad4b0-8dc1-4ac9-aa22-9d98b43a905f",
   "metadata": {},
   "outputs": [
    {
     "data": {
      "text/plain": [
       "array([[74, 57, 65],\n",
       "       [89, 66, 80],\n",
       "       [47, 38, 40]])"
      ]
     },
     "execution_count": 44,
     "metadata": {},
     "output_type": "execute_result"
    }
   ],
   "source": [
    "np.dot(n2,n3)"
   ]
  },
  {
   "cell_type": "markdown",
   "id": "780122c2-4264-4684-ba3b-50cdbf2b7054",
   "metadata": {},
   "source": [
    "## Determinant of the Matrix"
   ]
  },
  {
   "cell_type": "code",
   "execution_count": 166,
   "id": "d8bdefaa-59e3-4b4c-b029-30ed6ef31306",
   "metadata": {},
   "outputs": [
    {
     "data": {
      "text/plain": [
       "array([[1, 2, 4],\n",
       "       [2, 3, 4],\n",
       "       [4, 2, 3]])"
      ]
     },
     "execution_count": 166,
     "metadata": {},
     "output_type": "execute_result"
    }
   ],
   "source": [
    "n1"
   ]
  },
  {
   "cell_type": "code",
   "execution_count": 168,
   "id": "7cc233a5-300a-42d3-bbf7-02c34c4945c6",
   "metadata": {},
   "outputs": [
    {
     "data": {
      "text/plain": [
       "-10.999999999999996"
      ]
     },
     "execution_count": 168,
     "metadata": {},
     "output_type": "execute_result"
    }
   ],
   "source": [
    "np.linalg.det(n1)"
   ]
  },
  {
   "cell_type": "markdown",
   "id": "85cb702c-11ac-4e7f-ad2b-516af59ac4b5",
   "metadata": {},
   "source": [
    "## Flattering of a matrix"
   ]
  },
  {
   "cell_type": "code",
   "execution_count": 173,
   "id": "d7d239c0-d3ad-4e87-8a64-799dc913df83",
   "metadata": {},
   "outputs": [
    {
     "data": {
      "text/plain": [
       "array([1, 2, 4, 2, 3, 4, 4, 2, 3])"
      ]
     },
     "execution_count": 173,
     "metadata": {},
     "output_type": "execute_result"
    }
   ],
   "source": [
    "n1.flatten()"
   ]
  },
  {
   "cell_type": "code",
   "execution_count": 175,
   "id": "37f66def-6b83-4401-995c-90c827545114",
   "metadata": {},
   "outputs": [
    {
     "data": {
      "text/plain": [
       "numpy.ndarray"
      ]
     },
     "execution_count": 175,
     "metadata": {},
     "output_type": "execute_result"
    }
   ],
   "source": [
    "type(n1)"
   ]
  },
  {
   "cell_type": "code",
   "execution_count": 177,
   "id": "81ced151-bbf2-422a-b953-808d6703faea",
   "metadata": {},
   "outputs": [
    {
     "data": {
      "text/plain": [
       "array([[1, 2, 4],\n",
       "       [2, 3, 4],\n",
       "       [4, 2, 3]])"
      ]
     },
     "execution_count": 177,
     "metadata": {},
     "output_type": "execute_result"
    }
   ],
   "source": [
    "n1"
   ]
  },
  {
   "cell_type": "code",
   "execution_count": null,
   "id": "d60a4cfa-18e0-448e-bb36-c7b106dcc075",
   "metadata": {},
   "outputs": [],
   "source": []
  }
 ],
 "metadata": {
  "kernelspec": {
   "display_name": "Python [conda env:anaconda3] *",
   "language": "python",
   "name": "conda-env-anaconda3-py"
  },
  "language_info": {
   "codemirror_mode": {
    "name": "ipython",
    "version": 3
   },
   "file_extension": ".py",
   "mimetype": "text/x-python",
   "name": "python",
   "nbconvert_exporter": "python",
   "pygments_lexer": "ipython3",
   "version": "3.12.7"
  }
 },
 "nbformat": 4,
 "nbformat_minor": 5
}
